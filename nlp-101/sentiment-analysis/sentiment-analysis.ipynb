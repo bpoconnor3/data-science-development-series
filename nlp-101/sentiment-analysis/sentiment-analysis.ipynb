{
 "cells": [
  {
   "cell_type": "markdown",
   "metadata": {},
   "source": [
    "# Sentiment Analysis\n",
    "\n",
    "This notebook will be used to demonstrate the Natural Language Processing pipeline used to return the sentiment of customer reviews. \n",
    "\n",
    "Sentiment analysis is the process of evaluating the subjective nature of text to determine the sentiment (mood) being expressed. This          is helpful for evaluating whether the customer had a positive, negative or neutral experience, and to what degree.\n"
   ]
  },
  {
   "cell_type": "code",
   "execution_count": 10,
   "metadata": {},
   "outputs": [],
   "source": [
    "# Read in Python libraries utilized within script\n",
    "import warnings\n",
    "warnings.filterwarnings('ignore')\n",
    "from IPython.display import Image\n",
    "import pandas as pd\n",
    "import re\n",
    "from google.cloud import language_v1\n",
    "from google.cloud.language_v1 import enums\n",
    "from google.cloud.language_v1 import types"
   ]
  },
  {
   "cell_type": "markdown",
   "metadata": {},
   "source": [
    "### Function to Return Sentiment\n",
    "Using Google's NLP API: https://cloud.google.com/natural-language"
   ]
  },
  {
   "cell_type": "code",
   "execution_count": 11,
   "metadata": {},
   "outputs": [],
   "source": [
    "def analyze_sentiment(content):\n",
    "    \"\"\"Google API wrapper used to evaluate sentiment of a string. Returns score and magnitude\"\"\"\n",
    "    type_ = enums.Document.Type.PLAIN_TEXT\n",
    "    # create document payload\n",
    "    document = {'type': type_, 'content': content}\n",
    "    client = language_v1.LanguageServiceClient()\n",
    "\n",
    "    try:\n",
    "        # send request to natural language API\n",
    "        response = client.analyze_sentiment(document)\n",
    "\n",
    "        # return document sentiment\n",
    "        sentiment = response.document_sentiment\n",
    "\n",
    "        # save sentiment score\n",
    "        score = sentiment.score\n",
    "\n",
    "        # save sentiment magnitude\n",
    "        magnitude = sentiment.magnitude\n",
    "\n",
    "    except Exception as error:\n",
    "        print(error)\n",
    "        print(\"Sentence could not have sentiment analyzed: %s\" % content)\n",
    "        score = -99.0\n",
    "        magnitude = -99.0\n",
    "\n",
    "    return score\n",
    "\n",
    "def remove_operators(text):\n",
    "    \"\"\" Function to remove operators; new lines, tabs, etc within text\"\"\"\n",
    "    return re.sub('\\t|\\n',' ',text)\n"
   ]
  },
  {
   "cell_type": "markdown",
   "metadata": {},
   "source": [
    "Assign Sample Text to Variables"
   ]
  },
  {
   "cell_type": "code",
   "execution_count": 12,
   "metadata": {},
   "outputs": [],
   "source": [
    "negative_comment = \"\"\"I would be concerned about your personal items in all the parks. My bag was stolen in Volcano Bay nothing valuable just\n",
    "issues for me with no Epi-pen and license. Really a disappointment when staff was asked questions and you were not given correct answers.\n",
    "It took over an hour to reprint my very expensive Park Tickets with Express Pass and my meal plan card. Security was not helpful with our loss. \n",
    "Was disappointed Lucille Ball tribute was gone from Universal Florida. I Love Lucy was a great time in history and was a major building \n",
    "block to make Universal and TV what it is today. Very Very Disappointed and Disrespectful.\"\"\"\n",
    "\n",
    "positive_comment = \"\"\"Very nice area . A lot of friendly staff members . A lot to see and explore . \n",
    "Very crowded didn't have to pay for parking which was nice . Would come back and walk around again\"\"\"\n",
    "\n",
    "neutral_comment = \"\"\"My husband and I visited Universal Studios Orlando last week. Not being riders of roller coasters or \n",
    "other motion sickness inducing experiences, we opted for a one day pass to the Universal Studios park, skipping Islands of \n",
    "Adventure and Harry Potter. First off, we were dismayed at the $26 daily parking fee. We feel a small fee is acceptable, \n",
    "but if guests are already paying a hefty entrance fee, price gouging on the parking is questionable. \n",
    "This was our first trip to Universal, and I had done some research before hand. Our favorite part was The Simpsons, \n",
    "which was cute and clever. We walked completely around City Walk, and ate lunch at the restaurant at the Simpsons. \n",
    "Lunch was fine, but we noticed the entire park was a little run down and dirty. Other than plenty of places to dine \n",
    "and buy souvenirs this park lacked anything much for us to do, since we didn’t ride any rides. One time will be enough for us.\"\"\"\n",
    "\n",
    "topic_dict = {negative_comment:'Staff,Tickets,Express'}"
   ]
  },
  {
   "cell_type": "markdown",
   "metadata": {},
   "source": [
    "----------\n",
    "# Sentiment Analysis\n",
    "\n",
    "### Negative Review"
   ]
  },
  {
   "cell_type": "markdown",
   "metadata": {},
   "source": [
    "![alt text](./img/negative.png)"
   ]
  },
  {
   "cell_type": "code",
   "execution_count": 13,
   "metadata": {},
   "outputs": [
    {
     "data": {
      "text/plain": [
       "-0.4000000059604645"
      ]
     },
     "execution_count": 13,
     "metadata": {},
     "output_type": "execute_result"
    }
   ],
   "source": [
    "negative_comment = remove_operators(negative_comment)\n",
    "sentiment_score = analyze_sentiment(negative_comment)\n",
    "sentiment_score"
   ]
  },
  {
   "cell_type": "markdown",
   "metadata": {},
   "source": [
    "Score of the sentiment ranges between -1.0 (negative) and 1.0 (positive). In this case the rating is -0.4, which indicates a negative review.\n",
    "\n",
    "<br>\n",
    "\n",
    "### Positive Review\n"
   ]
  },
  {
   "cell_type": "markdown",
   "metadata": {},
   "source": [
    "![alt text](./img/positive.png)"
   ]
  },
  {
   "cell_type": "code",
   "execution_count": 14,
   "metadata": {},
   "outputs": [
    {
     "data": {
      "text/plain": [
       "0.800000011920929"
      ]
     },
     "execution_count": 14,
     "metadata": {},
     "output_type": "execute_result"
    }
   ],
   "source": [
    "positive_comment = remove_operators(positive_comment)\n",
    "sentiment_score = analyze_sentiment(positive_comment)\n",
    "sentiment_score"
   ]
  },
  {
   "cell_type": "markdown",
   "metadata": {},
   "source": [
    "#### In this case, the score was a .8, which indicates a positive review.\n",
    "\n",
    "<br>\n",
    "\n",
    "### Neutral Review"
   ]
  },
  {
   "cell_type": "markdown",
   "metadata": {},
   "source": [
    "![alt text](./img/neutral.png)"
   ]
  },
  {
   "cell_type": "code",
   "execution_count": 15,
   "metadata": {},
   "outputs": [
    {
     "data": {
      "text/plain": [
       "-0.10000000149011612"
      ]
     },
     "execution_count": 15,
     "metadata": {},
     "output_type": "execute_result"
    }
   ],
   "source": [
    "neutral_comment = remove_operators(neutral_comment)\n",
    "sentiment_score = analyze_sentiment(neutral_comment)\n",
    "sentiment_score"
   ]
  },
  {
   "cell_type": "markdown",
   "metadata": {},
   "source": [
    "This review is more nuanced in that it has both positive and negative aspects, but doesn't strongly lean one way. As such, this scored a -0.1. \n",
    "#### The complex nature of this example demonstrates the advanced capability to evaluate text as a whole, instead of just making assumptions based off a few trigger words."
   ]
  },
  {
   "cell_type": "markdown",
   "metadata": {},
   "source": [
    "![alt text](./img/dashboard_sentiment.png)"
   ]
  }
 ],
 "metadata": {
  "environment": {
   "name": "common-cpu.m48",
   "type": "gcloud",
   "uri": "gcr.io/deeplearning-platform-release/base-cpu:m48"
  },
  "kernelspec": {
   "display_name": "Python 3",
   "language": "python",
   "name": "python3"
  },
  "language_info": {
   "codemirror_mode": {
    "name": "ipython",
    "version": 3
   },
   "file_extension": ".py",
   "mimetype": "text/x-python",
   "name": "python",
   "nbconvert_exporter": "python",
   "pygments_lexer": "ipython3",
   "version": "3.7.6"
  }
 },
 "nbformat": 4,
 "nbformat_minor": 4
}
